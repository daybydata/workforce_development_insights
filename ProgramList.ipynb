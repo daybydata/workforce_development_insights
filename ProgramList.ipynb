{
 "cells": [
  {
   "cell_type": "code",
   "execution_count": null,
   "id": "d60c3e0c-a747-4a61-91a1-920cd730dba6",
   "metadata": {},
   "outputs": [],
   "source": [
    "# Importing the required libraries and dependencies\n",
    "import pandas as pd\n",
    "import numpy as np\n",
    "from pathlib import Path"
   ]
  },
  {
   "cell_type": "code",
   "execution_count": null,
   "id": "b1f65641-c738-450a-baa3-7a0498ca4686",
   "metadata": {},
   "outputs": [],
   "source": [
    "# Importing the school data -- institutional attributes\n",
    "# Setting the path of the csv file\n",
    "data_file = Path(\"./data/hd2020.csv\")\n",
    "df_schools = pd.read_csv(\n",
    "    data_file,\n",
    "    index_col=False\n",
    ")"
   ]
  },
  {
   "cell_type": "code",
   "execution_count": null,
   "id": "fe91b7af-e392-432c-b564-989cbb10424c",
   "metadata": {},
   "outputs": [],
   "source": [
    "# Importing the completions data by program\n",
    "# Setting the path of the csv file\n",
    "data_file = Path(\"./data/c2020_a.csv\")\n",
    "df_completions = pd.read_csv(data_file,sep=',', index_col=False)\n",
    "df_completions.describe()"
   ]
  },
  {
   "cell_type": "code",
   "execution_count": null,
   "id": "4d201920-e356-400c-80b3-1d3c9843e152",
   "metadata": {},
   "outputs": [],
   "source": [
    "# Importing the CIP-SOC Crosswalk\n",
    "# Setting the path of the csv file\n",
    "data_file = Path(\"./data/ONET_CIP-SOC_Crosswalk.csv\")\n",
    "# Importing the data file and setting the date column as the index column.\n",
    "df_CIPlist = pd.read_csv(data_file,sep=',', index_col=False)"
   ]
  },
  {
   "cell_type": "code",
   "execution_count": null,
   "id": "42e7277d-9180-42b0-b83e-6ee2473ab7ee",
   "metadata": {},
   "outputs": [],
   "source": [
    "df_completions"
   ]
  },
  {
   "cell_type": "code",
   "execution_count": null,
   "id": "1bab0cac-95c9-4294-a776-983529ae4364",
   "metadata": {},
   "outputs": [],
   "source": [
    "#Slice completions data for just the institution, the program, the award level, and total completions\n",
    "df_degrees = df_completions.loc[:,[\"UNITID\",\"CIPCODE\",\"AWLEVEL\",\"CTOTALT\"]]\n",
    "#Aggregate completions by institution, program and award level\n",
    "df_completions=df_degrees.groupby([\"UNITID\",\"CIPCODE\",\"AWLEVEL\"]).sum()\n"
   ]
  },
  {
   "cell_type": "code",
   "execution_count": null,
   "id": "8396f5a3-a253-4f0b-a348-8b4173ee536d",
   "metadata": {},
   "outputs": [],
   "source": [
    "df_completions"
   ]
  },
  {
   "cell_type": "code",
   "execution_count": null,
   "id": "f8a2bb3e-f5ec-4535-ac3a-8302d3fd7dec",
   "metadata": {},
   "outputs": [],
   "source": [
    "df_completions.reset_index(inplace = True)"
   ]
  },
  {
   "cell_type": "code",
   "execution_count": null,
   "id": "9d35d588-121a-47f1-8798-aac614f8bb1e",
   "metadata": {},
   "outputs": [],
   "source": [
    "df_completions"
   ]
  },
  {
   "cell_type": "code",
   "execution_count": null,
   "id": "99f7f00a-4c1f-4925-a5e5-ef72af8f59e4",
   "metadata": {},
   "outputs": [],
   "source": [
    "#Review CIPList. It is a crosswalk between programs and occupations.\n",
    "df_CIPlist"
   ]
  },
  {
   "cell_type": "code",
   "execution_count": null,
   "id": "255c943f-8476-42e8-ab5c-86298e94f376",
   "metadata": {},
   "outputs": [],
   "source": [
    "# Change the column name for CIPCODE so it matches the other dataframes.\n",
    "df_CIPlist.rename(columns = {'CIP':'CIPCODE'}, inplace = True)"
   ]
  },
  {
   "cell_type": "code",
   "execution_count": null,
   "id": "2f709934-dc41-4ba4-91db-ca975a05cb8f",
   "metadata": {},
   "outputs": [],
   "source": [
    "#Review programs list. It is a crosswalk between occupations and programs.\n",
    "#df_programslist"
   ]
  },
  {
   "cell_type": "code",
   "execution_count": null,
   "id": "d430e214-8e62-4f01-a304-f5c44a8f799a",
   "metadata": {},
   "outputs": [],
   "source": [
    "# Change the column name for CIPCODE so it matches the other dataframes.\n",
    "#df_programslist.rename(columns = {'CIPCode':'CIPCODE'}, inplace = True)"
   ]
  },
  {
   "cell_type": "code",
   "execution_count": null,
   "id": "84fbfa60-3180-4161-8f9a-aabd1e9ba9d8",
   "metadata": {},
   "outputs": [],
   "source": [
    "#Filtered the schools dataframe to get a list of Charlotte CBSA schools\n",
    "df_NCschools = df_schools.loc[(df_schools[\"CBSA\"] == 16740),[\"UNITID\",\"INSTNM\"]]"
   ]
  },
  {
   "cell_type": "code",
   "execution_count": null,
   "id": "5ff2d65b-3b61-4571-942e-fc9ccdd688b7",
   "metadata": {},
   "outputs": [],
   "source": [
    "#Reivew the NC Schools list\n",
    "df_NCschools"
   ]
  },
  {
   "cell_type": "code",
   "execution_count": null,
   "id": "bcddc6a8-4c60-4c3e-91a9-b554eb273baf",
   "metadata": {},
   "outputs": [],
   "source": [
    "#This is code to concatenate together CIP Codes for the vocational programs from the cost files. It will not be needed.\n",
    "#df1 = df_programs.loc[:,[\"UNITID\",\"CIPCODE1\"]]\n",
    "#df2 = df_programs.loc[df_programs[\"CIPCODE2\"] != -2.000,[\"UNITID\",\"CIPCODE2\"]]\n",
    "#df3 = df_programs.loc[df_programs[\"CIPCODE3\"] != -2.000,[\"UNITID\",\"CIPCODE3\"]]\n",
    "#df4 = df_programs.loc[df_programs[\"CIPCODE4\"] != -2.000,[\"UNITID\",\"CIPCODE4\"]]\n",
    "#df5 = df_programs.loc[df_programs[\"CIPCODE5\"] != -2.000,[\"UNITID\",\"CIPCODE5\"]]\n",
    "#df6 = df_programs.loc[df_programs[\"CIPCODE6\"] != -2.000,[\"UNITID\",\"CIPCODE6\"]]\n",
    "\n",
    "#df1.rename(columns = {'CIPCODE1':'CIPCODE'}, inplace = True)\n",
    "#df2.rename(columns = {'CIPCODE2':'CIPCODE'}, inplace = True)\n",
    "#df3.rename(columns = {'CIPCODE3':'CIPCODE'}, inplace = True)\n",
    "#df4.rename(columns = {'CIPCODE4':'CIPCODE'}, inplace = True)\n",
    "#df5.rename(columns = {'CIPCODE5':'CIPCODE'}, inplace = True)\n",
    "#df6.rename(columns = {'CIPCODE6':'CIPCODE'}, inplace = True)\n",
    "\n",
    "#frames = [df1,df2,df3,df4,df5,df6]\n",
    "\n",
    "#df_CIPS = pd.concat(frames)\n",
    "\n",
    "#df_CIPS"
   ]
  },
  {
   "cell_type": "code",
   "execution_count": null,
   "id": "dcd23ce6-48aa-442a-b0e2-7fbf89d704e9",
   "metadata": {},
   "outputs": [],
   "source": [
    "#Create the NC programs file by merging NC schools with the completions dataframe with an inner join\n",
    "df_NCprograms = pd.merge(df_NCschools, df_completions, on='UNITID', how ='left')"
   ]
  },
  {
   "cell_type": "code",
   "execution_count": null,
   "id": "2000103f-2959-4018-a677-d54123c96416",
   "metadata": {},
   "outputs": [],
   "source": [
    "df_NCprograms"
   ]
  },
  {
   "cell_type": "code",
   "execution_count": null,
   "id": "15d31297-ec14-43b0-af07-5e598c35bc6b",
   "metadata": {},
   "outputs": [],
   "source": [
    "#Finally, join NC Programs with our CIP/SOC crosswalk \n",
    "df_NCprograms_withSOC = pd.merge(df_NCprograms,df_CIPlist,on='CIPCODE', how ='left')\n"
   ]
  },
  {
   "cell_type": "code",
   "execution_count": null,
   "id": "db03d203-0cb8-4678-af4a-dfb0dfd1d3ce",
   "metadata": {},
   "outputs": [],
   "source": [
    "df_NCprograms_withSOC"
   ]
  },
  {
   "cell_type": "code",
   "execution_count": null,
   "id": "8331652d-9b29-4eab-a414-ed53c7671bba",
   "metadata": {},
   "outputs": [],
   "source": [
    "cols = df_NCprograms_withSOC.columns.tolist()\n",
    "\n",
    "cols = ['UNITID','INSTNM','CIPCODE','CIP_Title','AWLEVEL','CTOTALT', 'SOC', 'SOC_Title']\n",
    "\n",
    "df_NCprograms_withSOC = df_NCprograms_withSOC[cols]\n",
    "#df_NCprograms_withSOC = df_NCprograms_withSOC.drop_duplicates()"
   ]
  },
  {
   "cell_type": "code",
   "execution_count": null,
   "id": "562651da-0dd1-44eb-8a21-9daa07c4d2ba",
   "metadata": {},
   "outputs": [],
   "source": [
    "df_NCprograms_withSOC"
   ]
  },
  {
   "cell_type": "code",
   "execution_count": null,
   "id": "fa27f1bd-b3df-4c52-b668-02020edc859f",
   "metadata": {},
   "outputs": [],
   "source": [
    "AtriumSOCList = [\n",
    "'29-2034.00',\n",
    "'29-2032.00',\n",
    "'31-9092.00',\n",
    "'29-2010.00',\n",
    "'29-2011.00',\n",
    "'29-1141.00',\n",
    "'31-1131.00',\n",
    "'29-2061.00',\n",
    "'29-2040.00',\n",
    "'29-2055.00',\n",
    "'29-2099.00'\n",
    "]\n",
    "\n",
    "df_AtriumPrograms = df_NCprograms_withSOC[df_NCprograms_withSOC['SOC'].isin(AtriumSOCList)]\n",
    "df_AtriumPrograms"
   ]
  },
  {
   "cell_type": "code",
   "execution_count": null,
   "id": "a810f5c5-a920-4d1e-b176-74aa01d9d573",
   "metadata": {},
   "outputs": [],
   "source": [
    "df_AtriumSchools = df_AtriumPrograms[['UNITID','INSTNM']]\n",
    "df_AtriumSchools = df_AtriumSchools.drop_duplicates()\n",
    "df_AtriumSchools = pd.merge(df_AtriumSchools, df_schools[['UNITID','WEBADDR']], on='UNITID', how ='left')\n",
    "df_AtriumSchools"
   ]
  },
  {
   "cell_type": "code",
   "execution_count": null,
   "id": "8fc84fb9-c7f0-470f-a76a-f2ccfefc48c8",
   "metadata": {},
   "outputs": [],
   "source": [
    "df_NCprograms_withSOC.to_csv('ProgramsbySOC.csv', index=False)"
   ]
  },
  {
   "cell_type": "code",
   "execution_count": null,
   "id": "f167ebe8-bafd-4774-b06a-f7afac38d07e",
   "metadata": {},
   "outputs": [],
   "source": [
    "df_AtriumPrograms.to_csv('AtriumPrograms.csv', index=False)\n",
    "df_AtriumSchools.to_csv('AtriumSchools.csv', index=False)"
   ]
  }
 ],
 "metadata": {
  "kernelspec": {
   "display_name": "Python (dev)",
   "language": "python",
   "name": "dev"
  },
  "language_info": {
   "codemirror_mode": {
    "name": "ipython",
    "version": 3
   },
   "file_extension": ".py",
   "mimetype": "text/x-python",
   "name": "python",
   "nbconvert_exporter": "python",
   "pygments_lexer": "ipython3",
   "version": "3.7.11"
  }
 },
 "nbformat": 4,
 "nbformat_minor": 5
}
